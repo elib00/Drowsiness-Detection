{
 "cells": [
  {
   "cell_type": "code",
   "execution_count": 1,
   "metadata": {},
   "outputs": [
    {
     "name": "stderr",
     "output_type": "stream",
     "text": [
      "Using cache found in C:\\Users\\JOSHUA/.cache\\torch\\hub\\ultralytics_yolov5_master\n",
      "YOLOv5  2024-4-6 Python-3.12.0 torch-2.2.1+cu118 CPU\n",
      "\n",
      "Fusing layers... \n",
      "YOLOv5s summary: 213 layers, 7225885 parameters, 0 gradients, 16.4 GFLOPs\n",
      "Adding AutoShape... \n"
     ]
    }
   ],
   "source": [
    "import torch\n",
    "from matplotlib import pyplot as plt\n",
    "import numpy as np\n",
    "import cv2\n",
    "\n",
    "model = torch.hub.load(\"ultralytics/yolov5\", \"yolov5s\")"
   ]
  },
  {
   "cell_type": "code",
   "execution_count": 3,
   "metadata": {},
   "outputs": [],
   "source": [
    "cap = cv2.VideoCapture(0)\n",
    "cap.set(cv2.CAP_PROP_FRAME_WIDTH, 640)\n",
    "cap.set(cv2.CAP_PROP_FRAME_HEIGHT, 480)\n",
    "cap.set(cv2.CAP_PROP_FPS, 120)\n",
    "\n",
    "while cap.isOpened():\n",
    "    ret, frame = cap.read()\n",
    "    \n",
    "    flipped_frame = cv2.flip(frame, 1)\n",
    "    \n",
    "    #make detections\n",
    "    results = model(flipped_frame)\n",
    "    rendered_frame = np.squeeze(results.render())\n",
    "    \n",
    "    cv2.imshow(\"Drowsiness Detection\", rendered_frame)\n",
    "    if cv2.waitKey(10) & 0xFF == ord(\"x\"):\n",
    "        break\n",
    "\n",
    "cap.release()\n",
    "cv2.destroyAllWindows()"
   ]
  },
  {
   "cell_type": "code",
   "execution_count": null,
   "metadata": {},
   "outputs": [],
   "source": [
    "# import uuid\n",
    "# import os\n",
    "# import time\n",
    "\n",
    "# IMAGES_PATH = os.path.join(\"data\", \"images\")\n",
    "# labels = (\"awake\", \"drowsy\")\n",
    "# length = 20\n",
    "\n",
    "# cap = cv2.VideoCapture(0)\n",
    "# cap.set(cv2.CAP_PROP_FRAME_WIDTH, 640)\n",
    "# cap.set(cv2.CAP_PROP_FRAME_HEIGHT, 480)\n",
    "# cap.set(cv2.CAP_PROP_FPS, 60)\n",
    "\n",
    "# for label in labels:\n",
    "#     print(f\"Collecting images for {label}\")\n",
    "#     time.sleep(5)\n",
    "    \n",
    "#     for i in range(length):\n",
    "#         print(f\"Collecting images for {label}, #{i}\")   \n",
    "        \n",
    "#         ret, frame = cap.read()\n",
    "#         frame = cv2.flip(frame, 1)\n",
    "        \n",
    "#         image_name = os.path.join(IMAGES_PATH, f\"{label}.{str(uuid.uuid1())}.jpg\")\n",
    "#         cv2.imwrite(image_name, frame)\n",
    "#         cv2.imshow(\"IMAGE COLLECTION\", frame)\n",
    "        \n",
    "#         time.sleep(2)\n",
    "        \n",
    "#         if cv2.waitKey(10) & 0xFF == ord(\"x\"):\n",
    "#         break\n",
    "\n",
    "# cap.release()\n",
    "# cv2.destroyAllWindows()\n",
    "    \n"
   ]
  },
  {
   "cell_type": "code",
   "execution_count": 23,
   "metadata": {},
   "outputs": [
    {
     "name": "stderr",
     "output_type": "stream",
     "text": [
      "Cloning into 'labelImg'...\n"
     ]
    }
   ],
   "source": [
    "!git clone https://github.com/HumanSignal/labelImg.git"
   ]
  }
 ],
 "metadata": {
  "kernelspec": {
   "display_name": "Python 3",
   "language": "python",
   "name": "python3"
  },
  "language_info": {
   "codemirror_mode": {
    "name": "ipython",
    "version": 3
   },
   "file_extension": ".py",
   "mimetype": "text/x-python",
   "name": "python",
   "nbconvert_exporter": "python",
   "pygments_lexer": "ipython3",
   "version": "3.12.0"
  }
 },
 "nbformat": 4,
 "nbformat_minor": 2
}
